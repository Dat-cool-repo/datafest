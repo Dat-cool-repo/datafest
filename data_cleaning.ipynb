{
 "cells": [
  {
   "cell_type": "markdown",
   "metadata": {},
   "source": [
    "# DATA EXPLORATORY \n"
   ]
  },
  {
   "cell_type": "code",
   "execution_count": 1,
   "metadata": {},
   "outputs": [
    {
     "name": "stdout",
     "output_type": "stream",
     "text": [
      "Processed Leases.csv - dropped 3 columns.\n",
      "Processed Major Market Occupancy Data-revised.csv - dropped 0 columns.\n",
      "Processed Price and Availability Data.csv - dropped 0 columns.\n",
      "Processed Unemployment.csv - dropped 0 columns.\n"
     ]
    }
   ],
   "source": [
    "import os\n",
    "import pandas as pd\n",
    "\n",
    "# Create output directory if it doesn't exist\n",
    "os.makedirs(\"process.csv\", exist_ok=True)\n",
    "\n",
    "# Loop through all CSV files in the 'data' folder\n",
    "for filename in os.listdir(\"data\"):\n",
    "    if filename.endswith(\".csv\"):\n",
    "        file_path = os.path.join(\"data\", filename)\n",
    "        \n",
    "        # Load the CSV file\n",
    "        df = pd.read_csv(file_path)\n",
    "\n",
    "        # Calculate the percentage of missing values\n",
    "        missing_ratio = df.isna().mean()\n",
    "\n",
    "        # Drop columns where more than 50% of data is missing\n",
    "        df_cleaned = df.loc[:, missing_ratio <= 0.5]\n",
    "\n",
    "        # Save the cleaned DataFrame to the new folder\n",
    "        output_path = os.path.join(\"process.csv\", filename)\n",
    "        df_cleaned.to_csv(output_path, index=False)\n",
    "\n",
    "        print(f\"Processed {filename} - dropped {sum(missing_ratio > 0.5)} columns.\")\n"
   ]
  },
  {
   "cell_type": "code",
   "execution_count": null,
   "metadata": {},
   "outputs": [],
   "source": [
    "import os\n",
    "import pandas as pd\n",
    "\n",
    "# Loop through all CSV files in the 'data' folder\n",
    "for filename in os.listdir(\"process.csv\"):\n",
    "    if filename.endswith(\".csv\"):\n",
    "        file_path = os.path.join(\"process.csv\", filename)\n",
    "\n",
    "        # Load the CSV file\n",
    "        df = pd.read_csv(file_path)\n",
    "\n",
    "        # Calculate missing data percentage\n",
    "        missing_percent = df.isna().mean() * 100\n",
    "\n",
    "        # Display results\n",
    "        print(f\"\\nMissing Data Percentages for: {filename}\")\n",
    "        print(missing_percent.round(2).astype(str) + '%')\n"
   ]
  }
 ],
 "metadata": {
  "kernelspec": {
   "display_name": "Python (strats)",
   "language": "python",
   "name": "myenv"
  },
  "language_info": {
   "codemirror_mode": {
    "name": "ipython",
    "version": 3
   },
   "file_extension": ".py",
   "mimetype": "text/x-python",
   "name": "python",
   "nbconvert_exporter": "python",
   "pygments_lexer": "ipython3",
   "version": "3.10.15"
  }
 },
 "nbformat": 4,
 "nbformat_minor": 2
}
